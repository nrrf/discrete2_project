{
  "nbformat": 4,
  "nbformat_minor": 0,
  "metadata": {
    "colab": {
      "name": "Proyecto_Discretas_2.ipynb",
      "provenance": [],
      "collapsed_sections": [
        "M11a_98acmo0",
        "HWJCBQZs0-ov",
        "aSygZG6L4er0",
        "u-5ID12h5Dal",
        "jzMnpHSfl19S",
        "WVi4rSG28TIb",
        "kxsV65pp8lIS",
        "98puAKER9ko6",
        "K29i3yNfa9Wy"
      ]
    },
    "kernelspec": {
      "name": "python3",
      "display_name": "Python 3"
    }
  },
  "cells": [
    {
      "cell_type": "markdown",
      "metadata": {
        "id": "w07pEKn402OV"
      },
      "source": [
        "# Proyecto Matematicas Discretas 2\n",
        "## Nicolas Raul Rojas Feria"
      ]
    },
    {
      "cell_type": "markdown",
      "metadata": {
        "id": "M11a_98acmo0"
      },
      "source": [
        "## Introducción"
      ]
    },
    {
      "cell_type": "code",
      "metadata": {
        "id": "ERAgtzugcixz"
      },
      "source": [
        "'''primero de penso en el pdf 417, pero este al ser ya realizado por una libreria , \r\n",
        "se decidio a hacer el encode y decode de alguno que no cuente con una libreria \r\n",
        "para el proyecto como lo es el pharmacode one track y two track'''\r\n",
        "\r\n",
        "from pdf417 import encode, render_image, render_svg\r\n",
        "\r\n",
        "# texto a encode\r\n",
        "text = \"este es el texto a pasar a pdf 417\"\r\n",
        "\r\n",
        "#print(type(text))\r\n",
        "# conversion\r\n",
        "codes = encode(text)\r\n",
        "\r\n",
        "# Pasado a png\r\n",
        "image = render_image(codes)  \r\n",
        "image.save('pdf417.png')"
      ],
      "execution_count": null,
      "outputs": []
    },
    {
      "cell_type": "markdown",
      "metadata": {
        "id": "YMmmsmB4cwXU"
      },
      "source": [
        "Este proyecto consiste en codificar y decodificar un barcode, en este caso se aplico con el Pharmaceutical One-Track y el Pharmaceutical Two-Track (creando las imagenes del barcode asi como decodificando imagenes del barcode, ello apoyandose en librerias como openCV y numpy) con cualquier numero que se quiera representar, y luego ver una aplicacion util en una base de datos (MongoDB en este caso de manera local)"
      ]
    },
    {
      "cell_type": "markdown",
      "metadata": {
        "id": "HWJCBQZs0-ov"
      },
      "source": [
        "## Numero de combinaciones: \n",
        "Se va a determinar el numero de combinaciones con respecto a las posiciones que ocuper el barcode, en este caso tanto el one-track como el  two-track "
      ]
    },
    {
      "cell_type": "markdown",
      "metadata": {
        "id": "DYDf1PYfi4dS"
      },
      "source": [
        "\\begin{equation*}\n",
        "K=\\sum_{n=1}^{n} 2^{n}\n",
        "\\end{equation*}\n"
      ]
    },
    {
      "cell_type": "markdown",
      "metadata": {
        "id": "bh355rGAqoqM"
      },
      "source": [
        "Para la parte de programa"
      ]
    },
    {
      "cell_type": "code",
      "metadata": {
        "id": "4X28a8N700i2",
        "outputId": "e2270fbd-70f7-49f6-fbf3-2ad79baa9160"
      },
      "source": [
        "from plot import plot \n",
        "def combinacionesonetrack(n, count,listx,listy): \n",
        "    count+=1\n",
        "    listx.append(count)\n",
        "    if(n==1):\n",
        "        listy.append(2)\n",
        "        listy.reverse()\n",
        "        plot(listx,listy)\n",
        "        return 2\n",
        "    else: \n",
        "        listy.append(2**n)\n",
        "        return (2**n)+combinacionesonetrack(n-1,count,listx,listy)\n",
        "\n",
        "x = int(input(\"Digite un numero de posiciones(esto es con respecto al barcode, para pharmacode one tracks: \"))\n",
        "\n",
        "print(combinacionesonetrack(x,0,[],[]))"
      ],
      "execution_count": null,
      "outputs": [
        {
          "output_type": "stream",
          "text": [
            "21267647932558653966460912964485513214\n"
          ],
          "name": "stdout"
        }
      ]
    },
    {
      "cell_type": "markdown",
      "metadata": {
        "id": "YTz-6QXnc6Wc"
      },
      "source": [
        "En la grafica podemos denotar el crecimiento de la sumatoria en cada iteracion para pharmacode one-track"
      ]
    },
    {
      "cell_type": "markdown",
      "metadata": {
        "id": "JnM4HPB5sXn9"
      },
      "source": [
        "\\begin{equation*}\n",
        "K=\\sum_{n=1}^{n} 3^{n}\n",
        "\\end{equation*}"
      ]
    },
    {
      "cell_type": "code",
      "metadata": {
        "colab": {
          "base_uri": "https://localhost:8080/"
        },
        "id": "_2UtbYdcC2BE",
        "outputId": "4ab18151-7866-47c8-d556-3d703f6e77a7"
      },
      "source": [
        "# Number of Possible combinations\n",
        "from plot import plot\n",
        "def combinacionestwotracks(n,count,listx,listy): \n",
        "  count+=1 \n",
        "  listx.append(count)\n",
        "  if(n==1):\n",
        "    listy.append(3)\n",
        "    listy.reverse()\n",
        "    plot(listx,listy)\n",
        "    return 3\n",
        "  else: \n",
        "    listy.append(3**n)\n",
        "    return (3**n)+combinacionestwotracks(n-1,count,listx,listy)\n",
        "\n",
        "x = int(input(\"Digite un numero de posiciones(esto es con respecto al barcode, para pharmacode two tracks): \"))\n",
        "\n",
        "print(combinacionestwotracks(x,0,[],[]))\n"
      ],
      "execution_count": null,
      "outputs": [
        {
          "output_type": "stream",
          "text": [
            "797160\n"
          ],
          "name": "stdout"
        }
      ]
    },
    {
      "cell_type": "markdown",
      "metadata": {
        "id": "A8GJsvC8dDjq"
      },
      "source": [
        "En la grafica podemos denotar el crecimiento de la sumatoria en cada iteracion para pharmacode two track"
      ]
    },
    {
      "cell_type": "markdown",
      "metadata": {
        "id": "aSygZG6L4er0"
      },
      "source": [
        "## Aclaracion: \n",
        "El One-track pharmacode ni el two-track Pharmacode se tratan de una conversion de decimal a bnario o terciario, se va a hacer un terciario solo para ver que son muy diferentes"
      ]
    },
    {
      "cell_type": "markdown",
      "metadata": {
        "id": "NGbcxiPI-Zi7"
      },
      "source": [
        "Decimal to  Thernary (No es el de Pharmacode two tracks) se va a poner por simple aclaracion, al igual q el one track no es a binario\n",
        "\n",
        "\n"
      ]
    },
    {
      "cell_type": "code",
      "metadata": {
        "colab": {
          "base_uri": "https://localhost:8080/"
        },
        "id": "3bpBpxHwXQXb",
        "outputId": "b8553a32-114a-4206-80e3-6b7b5b948b85"
      },
      "source": [
        "import numpy as np\n",
        "\n",
        "def decimalToTernary(decimal):\n",
        "  ternary=np.base_repr(decimal,base=3)\n",
        "  return list(map(int,ternary))\n",
        "\n",
        "a=int(input())\n",
        "b=decimalToTernary(a)\n",
        "print(b)\n",
        "\n",
        "print()\n",
        "\n",
        "matriz = []\n",
        "for i in range(2): \n",
        "  matriz.append([])\n",
        "  for j in b: \n",
        "    if (i==0): \n",
        "      if(j==1):\n",
        "        matriz[i].append(\" \")\n",
        "      else: \n",
        "        matriz[i].append(\"|\")\n",
        "    else: \n",
        "      if(j==2): \n",
        "        matriz[i].append(\" \")\n",
        "      else: \n",
        "        matriz[i].append(\"|\")\n",
        "\n",
        "for i in range(2): \n",
        "  for j in range(len(b)): \n",
        "    print(matriz[i][j],end=\"\")\n",
        "  print()"
      ],
      "execution_count": null,
      "outputs": [
        {
          "output_type": "stream",
          "text": [
            "[1, 1, 1, 2, 0]\n",
            "\n",
            "   ||\n",
            "||| |\n"
          ],
          "name": "stdout"
        }
      ]
    },
    {
      "cell_type": "markdown",
      "metadata": {
        "id": "u-5ID12h5Dal"
      },
      "source": [
        "##Por Consola (Codificacion): \n",
        "Vamos a hacer la conversion mostrandolo por sonsola para ver el ejemplo en este caso con el 123456, aunque se púede modificar al que se quiera, tanto para One-Track Pharmacode como para Two-Track P´harmacode"
      ]
    },
    {
      "cell_type": "markdown",
      "metadata": {
        "id": "MfvBf3lz6h-y"
      },
      "source": [
        "Codificacion por consola de One-Track Pharmacode"
      ]
    },
    {
      "cell_type": "markdown",
      "metadata": {
        "id": "woLmK3r1PEuJ"
      },
      "source": [
        "Algoritmo usado (Representado como diagrama de estados):\n",
        "\n",
        "![diagrama_proyecto_1.png](data:image/png;base64,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)"
      ]
    },
    {
      "cell_type": "code",
      "metadata": {
        "id": "xUoFKSzN00i3",
        "outputId": "bda7e9da-fd0b-4711-d09b-5c16b1cc0a31"
      },
      "source": [
        "pharmacode1 = []\n",
        "\n",
        "def examplePharmacodeOne(num): \n",
        "    rest = num%2 \n",
        "    pharmacode1.append(int(rest))\n",
        "    if(rest==0): \n",
        "        num = (num-2)/2\n",
        "        if(num!=0):\n",
        "            examplePharmacodeOne(num)\n",
        "        else:\n",
        "            return \n",
        "    else:\n",
        "        num = (num-1)/2\n",
        "        if(num!=0):\n",
        "            examplePharmacodeOne(num)\n",
        "        else:\n",
        "            return \n",
        "num = 123456\n",
        "examplePharmacodeOne(num)\n",
        "pharmacode1=pharmacode1[::-1]  # reverse\n",
        "print(pharmacode1)\n",
        "\n",
        "print()\n",
        "\n",
        "matriz = []\n",
        "\n",
        "for i in pharmacode1:\n",
        "    if(i==0):\n",
        "        matriz.append(\"|| \")\n",
        "    else:\n",
        "        matriz.append(\"| \")\n",
        "\n",
        "for i in range(len(pharmacode1)): \n",
        "    print(matriz[i],end=\" \")"
      ],
      "execution_count": null,
      "outputs": [
        {
          "output_type": "stream",
          "text": [
            "[0, 0, 0, 1, 1, 1, 0, 1, 1, 0, 1, 1, 1, 1, 1, 0]\n",
            "\n",
            "||  ||  ||  |  |  |  ||  |  |  ||  |  |  |  |  |  ||  "
          ],
          "name": "stdout"
        }
      ]
    },
    {
      "cell_type": "markdown",
      "metadata": {
        "id": "SCF5-JcP6oKk"
      },
      "source": [
        "Codificacion por consola de Two-Track Pharmacode"
      ]
    },
    {
      "cell_type": "markdown",
      "metadata": {
        "id": "8IIKGjPuPVib"
      },
      "source": [
        "Algoritmo usado (Representado como diagrama de estados)\n",
        "\n",
        "![diagrama_proyecto_2.png](data:image/png;base64,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)"
      ]
    },
    {
      "cell_type": "code",
      "metadata": {
        "id": "ob0sJ7LggK9O",
        "colab": {
          "base_uri": "https://localhost:8080/"
        },
        "outputId": "ed221275-34fb-441c-d960-ae66412b4032"
      },
      "source": [
        "\n",
        "\n",
        "listaGeneral= []\n",
        "\n",
        "# se hace una lista de numeros modulo 3 con respecto al diagrama planteado\n",
        "def prueba1(num): \n",
        "  rest=num%3\n",
        "  listaGeneral.append(int(rest))\n",
        "  if(rest==0):\n",
        "    #print(int(rest))\n",
        "    num=(num-3)/3\n",
        "    if(num!=0):\n",
        "      prueba1(num) \n",
        "    else: \n",
        "      return \n",
        "  elif(rest==1):\n",
        "    #print(int(rest))\n",
        "    num=(num-1)/3\n",
        "    if(num!=0):\n",
        "      prueba1(num)\n",
        "    else:\n",
        "      return \n",
        "  else: \n",
        "    #print(int(rest))\n",
        "    num=(num-2)/3\n",
        "    if(num!=0):\n",
        "      prueba1(num)\n",
        "    else:\n",
        "      return \n",
        "    \n",
        "\n",
        "num = 123456\n",
        "prueba1(num)\n",
        "listaGeneral=listaGeneral[::-1]  # reverse\n",
        "print(listaGeneral)\n",
        "\n",
        "print()\n",
        "\n",
        "matriz = []\n",
        "for i in range(2): \n",
        "  matriz.append([])\n",
        "  for j in listaGeneral: \n",
        "    if (i==0): \n",
        "      if(j==1):\n",
        "        matriz[i].append(\" \")\n",
        "      else: \n",
        "        matriz[i].append(\"|\")\n",
        "    else: \n",
        "      if(j==2): \n",
        "        matriz[i].append(\" \")\n",
        "      else: \n",
        "        matriz[i].append(\"|\")\n",
        "\n",
        "for i in range(2): \n",
        "  for j in range(len(listaGeneral)): \n",
        "    print(matriz[i][j],end=\"\")\n",
        "  print()\n"
      ],
      "execution_count": null,
      "outputs": [
        {
          "output_type": "stream",
          "text": [
            "[1, 2, 0, 1, 0, 0, 2, 2, 0, 0, 0]\n",
            "\n",
            " || |||||||\n",
            "| ||||  |||\n"
          ],
          "name": "stdout"
        }
      ]
    },
    {
      "cell_type": "markdown",
      "metadata": {
        "id": "jzMnpHSfl19S"
      },
      "source": [
        "## Codificacion Completa\n",
        "Para la codificacion se va a hacer una concatenacion de imagenes (tiles) que por la libreria de numpy y opencv se van a representar como matrices lo cual facilitara las operaciones entre ellas"
      ]
    },
    {
      "cell_type": "markdown",
      "metadata": {
        "id": "VleE5GOz69Ps"
      },
      "source": [
        "Codificacion Completa: One-Track Pharmacode, las imagenes se van a concatenar tomando como base la codificacion por consola, el archivo con la imagen del barcode se van a crear o actualizar en el archivo \n",
        "- 'assets/one_track/one_track_generated.png'"
      ]
    },
    {
      "cell_type": "markdown",
      "metadata": {
        "id": "4v4eZyOGP5by"
      },
      "source": [
        "Tiles Usados:"
      ]
    },
    {
      "cell_type": "markdown",
      "metadata": {
        "id": "fz15kZYhP85a"
      },
      "source": [
        "Fat Tile:\n",
        "![fat.png](data:image/png;base64,iVBORw0KGgoAAAANSUhEUgAAAAYAAAAUCAYAAACu0kzYAAAAAXNSR0IArs4c6QAAAARnQU1BAACxjwv8YQUAAAAJcEhZcwAADsQAAA7EAZUrDhsAAAA2SURBVChTdcixDQAwCMAw/n+akt2N5CVz7QdnOMMZznCGM5zhDGc4wxnOcIYznOEMZzijOfsAEER3iTyLSTgAAAAASUVORK5CYII=)"
      ]
    },
    {
      "cell_type": "markdown",
      "metadata": {
        "id": "3SKGCO5XQP6i"
      },
      "source": [
        "Space Tile: ![spaceOne.png](data:image/png;base64,iVBORw0KGgoAAAANSUhEUgAAAAQAAAAUCAYAAACqJ5zlAAAAAXNSR0IArs4c6QAAAARnQU1BAACxjwv8YQUAAAAJcEhZcwAADsQAAA7EAZUrDhsAAAAaSURBVChTY/wPBAxIgAlKw8GoACogJMDAAABc6QQkvzM/pgAAAABJRU5ErkJggg==)"
      ]
    },
    {
      "cell_type": "markdown",
      "metadata": {
        "id": "H8pOcAdnQgzJ"
      },
      "source": [
        "Thin Tile: ![thin.png](data:image/png;base64,iVBORw0KGgoAAAANSUhEUgAAAAIAAAAUCAYAAACnOeyiAAAAAXNSR0IArs4c6QAAAARnQU1BAACxjwv8YQUAAAAJcEhZcwAADsQAAA7EAZUrDhsAAAAYSURBVBhXY2RgYPgPxAxMIAIEBjuDgQEAvhQBJ5oGdYYAAAAASUVORK5CYII=)"
      ]
    },
    {
      "cell_type": "code",
      "metadata": {
        "id": "MMWSx5em00i4",
        "outputId": "b362c400-fc8e-4106-801a-55f46dece8e4"
      },
      "source": [
        "import cv2\n",
        "import numpy as np\n",
        "\n",
        "encodeOneList= []\n",
        "\n",
        "# se hace una lista de numeros modulo 3 con respecto al diagrama planteado\n",
        "def encodePharmacodeOne(num): \n",
        "  rest=num%2\n",
        "  if(rest==0):\n",
        "    encodeOneList.append(int(rest))\n",
        "    #print(int(rest))\n",
        "    num=(num-2)/2\n",
        "    if(num!=0):\n",
        "      encodePharmacodeOne(num) \n",
        "    else: \n",
        "      return \n",
        "  else:\n",
        "    encodeOneList.append(int(rest))\n",
        "    #print(int(rest))\n",
        "    num=(num-1)/2\n",
        "    if(num!=0):\n",
        "      encodePharmacodeOne(num)\n",
        "    else:\n",
        "      return \n",
        "\n",
        "_spaceOne = cv2.imread('assets/one_track/spaceOne.png')\n",
        "_fat = cv2.imread('assets/one_track/fat.png')\n",
        "_thin = cv2.imread('assets/one_track/thin.png')\n",
        "#im_v = cv2.vconcat([im1, im1])\n",
        "#cv2.imwrite('data/dst/opencv_vconcat.jpg', im_v)\n",
        "\n",
        "img_list = [_spaceOne]\n",
        "\n",
        "\n",
        "encodePharmacodeOne(int(input(\"digite numero a codificar: \")))\n",
        "encodeOneList= encodeOneList[::-1] # reverse \n",
        "\n",
        "# Se pasa a imagen, concatenando los tiles definidos\n",
        "for i in encodeOneList:\n",
        "    if i==0: \n",
        "        img_list.append(_fat)\n",
        "        img_list.append(_spaceOne)\n",
        "    else: \n",
        "        img_list.append(_thin)\n",
        "        img_list.append(_spaceOne)\n",
        "\n",
        "#concatenacion horizontal de las matrices(imagenes)\n",
        "barcodeOneTrack = cv2.hconcat(img_list)\n",
        "\n",
        "#lo escribe en el caso de que no exista, en caso de que si lo sobreescribe\n",
        "cv2.imwrite('assets/one_track/one_track_generated.png', barcodeOneTrack)"
      ],
      "execution_count": null,
      "outputs": [
        {
          "output_type": "execute_result",
          "data": {
            "text/plain": [
              "True"
            ]
          },
          "metadata": {
            "tags": []
          },
          "execution_count": 6
        }
      ]
    },
    {
      "cell_type": "markdown",
      "metadata": {
        "id": "aosFaiLAR0iY"
      },
      "source": [
        "Resultado para entrada 123456: \n",
        "![one_track_generated.png](data:image/png;base64,iVBORw0KGgoAAAANSUhEUgAAAHwAAAAUCAIAAADA287eAAAEF0lEQVRYCVXBsQEAAAiDMPj/aJw6mFgxKl/FqHwVo/JVjApUjApUjApUjMpXMSpQMSpQMSpfxahAxahAxahAxahAxahAxah8FWPFqHwVo/JVjMpXMSpQMSpQMSpQMSpfxahAxahAxah8FaMCFaMCFaMCFaMCFaMCFaPyVYwVo/JVjMpXMSpfxahAxahAxahAxah8FaMCFaMCFaPyVYwKVIwKVIwKVIwKVIwKVIzKVzFWjMpXMSpfxah8FaMCFaMCFaMCFaPyVYwKVIwKVIzKVzEqUDEqUDEqUDEqUDEqUDEqX8VYMSpfxah8FaPyVYwKVIwKVIwKVIzKVzEqUDEqUDEqX8WoQMWoQMWoQMWoQMWoQMWofBVjxah8FaPyVYzKVzEqUDEqUDEqUDEqX8WoQMWoQMWofBWjAhWjAhWjAhWjAhWjAhWj8lWMFaPyVYzKVzEqX8WoQMWoQMWoQMWofBWjAhWjAhWj8lWMClSMClSMClSMClSMClSMylcxVozKVzEqX8WofBWjAhWjAhWjAhWj8lWMClSMClSMylcxKlAxKlAxKlAxKlAxKlAxKl/FWDEqX8WofBWj8lWMClSMClSMClSMylcxKlAxKlAxKl/FqEDFqEDFqEDFqEDFqEDFqHwVY8WofBWj8lWMylcxKlAxKlAxKlAxKl/FqEDFqEDFqHwVowIVowIVowIVowIVowIVo/JVjBWj8lWMylcxKl/FqEDFqEDFqEDFqHwVowIVowIVo/JVjApUjApUjApUjApUjApUjMpXMVaMylcxKl/FqHwVowIVowIVowIVo/JVjApUjApUjMpXMSpQMSpQMSpQMSpQMSpQMSpfxVgxKl/FqHwVo/JVjApUjApUjApUjMpXMSpQMSpQMSpfxahAxahAxahAxahAxahAxah8FWPFqHwVo/JVjMpXMSpQMSpQMSpQMSpfxahAxahAxah8FaMCFaMCFaMCFaMCFaMCFaPyVYwVo/JVjMpXMSpfxahAxahAxahAxah8FaMCFaMCFaPyVYwKVIwKVIwKVIwKVIwKVIzKVzFWjMpXMSpfxah8FaMCFaMCFaMCFaPyVYwKVIwKVIzKVzEqUDEqUDEqUDEqUDEqUDEqX8VYMSpfxah8FaPyVYwKVIwKVIwKVIzKVzEqUDEqUDEqX8WoQMWoQMWoQMWoQMWoQMWofBVjxah8FaPyVYzKVzEqUDEqUDEqUDEqX8WoQMWoQMWofBWjAhWjAhWjAhWjAhWjAhWj8lWMFaPyVYzKVzEqX8WoQMWoQMWoQMWofBWjAhWjAhWj8lWMClSMClSMClSMClSMClSMylcxVozKVzEqX8WofBWjAhWjAhWjAhWj8lWMClSMClSMylcxKlAxKlAxKlAxKlAxKlAxKl/FHCz5/AYmzKBAAAAAAElFTkSuQmCC)"
      ]
    },
    {
      "cell_type": "markdown",
      "metadata": {
        "id": "4h2QM82n764s"
      },
      "source": [
        "Codificacion Completa: One-Track Pharmacode, las imagenes se van a concatenar tomando como base la codificacion por consola, el archivo con la imagen del barcode se van a crear o actualizar en el archivo \n",
        "- 'assets/two_tracks/two_tracks_generated.png'"
      ]
    },
    {
      "cell_type": "markdown",
      "metadata": {
        "id": "pP--c3a3QvaY"
      },
      "source": [
        "Tiles Usados:"
      ]
    },
    {
      "cell_type": "markdown",
      "metadata": {
        "id": "GHWNYMeaQy6S"
      },
      "source": [
        "Long Tile: ![long_tile.png](data:image/png;base64,iVBORw0KGgoAAAANSUhEUgAAAAQAAAAUCAYAAACqJ5zlAAAAAXNSR0IArs4c6QAAAARnQU1BAACxjwv8YQUAAAAJcEhZcwAADsQAAA7EAZUrDhsAAAAcSURBVChTY2RgYPgPxHDABKXhYFQAFRASYGAAAGqjASemvrKpAAAAAElFTkSuQmCC)"
      ]
    },
    {
      "cell_type": "markdown",
      "metadata": {
        "id": "tYxXNT-IQ7i5"
      },
      "source": [
        "Short Tile Down: ![short_tile_down.png](data:image/png;base64,iVBORw0KGgoAAAANSUhEUgAAAAQAAAAUCAYAAACqJ5zlAAAABGdBTUEAALGPC/xhBQAAAAlwSFlzAAAOxAAADsQBlSsOGwAAABxJREFUKFNj/A8EDEiACUrDwWARYATioeBSBgYAAagFIl1j9dgAAAAASUVORK5CYII=)"
      ]
    },
    {
      "cell_type": "markdown",
      "metadata": {
        "id": "oJemMRo3RFTo"
      },
      "source": [
        "Short Tile Up: ![short_tile_up.png](data:image/png;base64,iVBORw0KGgoAAAANSUhEUgAAAAQAAAAUCAYAAACqJ5zlAAAABGdBTUEAALGPC/xhBQAAAAlwSFlzAAAOxAAADsQBlSsOGwAAABdJREFUKFNjAIL/aHiQCvxHA4NU4P9/AGX8xzn1FNOEAAAAAElFTkSuQmCC)"
      ]
    },
    {
      "cell_type": "markdown",
      "metadata": {
        "id": "Lagxds7ZRO4f"
      },
      "source": [
        "Space Tile: ![space_tile.png](data:image/png;base64,iVBORw0KGgoAAAANSUhEUgAAAAQAAAAUCAYAAACqJ5zlAAAAAXNSR0IArs4c6QAAAARnQU1BAACxjwv8YQUAAAAJcEhZcwAADsQAAA7EAZUrDhsAAAAUSURBVChTY/iPBkYFUAHJAv//AwC5MT7QX1vlJAAAAABJRU5ErkJggg==)"
      ]
    },
    {
      "cell_type": "code",
      "metadata": {
        "id": "T4WJnkeN00i4",
        "outputId": "6a0f1ea7-f0d9-4e29-ae7a-0915b3e53b7c"
      },
      "source": [
        "import cv2\n",
        "import numpy as np\n",
        "\n",
        "encodeList= []\n",
        "\n",
        "# se hace una lista de numeros modulo 3 con respecto al diagrama planteado\n",
        "def encode1(num): \n",
        "  rest=num%3\n",
        "  if(rest==0):\n",
        "    encodeList.append(int(rest))\n",
        "    #print(int(rest))\n",
        "    num=(num-3)/3\n",
        "    if(num!=0):\n",
        "      encode1(num) \n",
        "    else: \n",
        "      return \n",
        "  elif(rest==1):\n",
        "    encodeList.append(int(rest))\n",
        "    #print(int(rest))\n",
        "    num=(num-1)/3\n",
        "    if(num!=0):\n",
        "      encode1(num)\n",
        "    else:\n",
        "      return \n",
        "  else: \n",
        "    encodeList.append(int(rest))\n",
        "    #print(int(rest))\n",
        "    num=(num-2)/3\n",
        "    if(num!=0):\n",
        "      encode1(num)\n",
        "    else:\n",
        "      return \n",
        "\n",
        "\n",
        "_space = cv2.imread('assets/two_tracks/space_tile.png')\n",
        "_long = cv2.imread('assets/two_tracks/long_tile.png')\n",
        "_short_up =cv2.imread('assets/two_tracks/short_tile_up.png')\n",
        "_short_down =cv2.imread('assets/two_tracks/short_tile_down.png')\n",
        "#im_v = cv2.vconcat([im1, im1])\n",
        "#cv2.imwrite('data/dst/opencv_vconcat.jpg', im_v)\n",
        "\n",
        "img_list = [_space]\n",
        "\n",
        "\n",
        "encode1(int(input(\"digite numero a codificer: \")))\n",
        "encodeList= encodeList[::-1] # reverse \n",
        "\n",
        "# Se pasa a imagen, concatenando los tiles definidos\n",
        "for i in encodeList:\n",
        "    if i==0: \n",
        "        img_list.append(_long)\n",
        "        img_list.append(_space)\n",
        "    elif i==1: \n",
        "        img_list.append(_short_down)\n",
        "        img_list.append(_space)\n",
        "    else: \n",
        "        img_list.append(_short_up)\n",
        "        img_list.append(_space)\n",
        "\n",
        "#concatenacion horizontal de las matrices(imagenes)\n",
        "barcode = cv2.hconcat(img_list)\n",
        "\n",
        "#lo escribe en el caso de que no exista, en caso de que si lo sobreescribe\n",
        "cv2.imwrite('assets/two_tracks/two_tracks_generated.png', barcode)\n"
      ],
      "execution_count": null,
      "outputs": [
        {
          "output_type": "execute_result",
          "data": {
            "text/plain": [
              "True"
            ]
          },
          "metadata": {
            "tags": []
          },
          "execution_count": 7
        }
      ]
    },
    {
      "cell_type": "markdown",
      "metadata": {
        "id": "knRbvJO_R_Jg"
      },
      "source": [
        "Resultado para entrada 123456: ![two_tracks_generated.png](data:image/png;base64,iVBORw0KGgoAAAANSUhEUgAAAFwAAAAUCAIAAACPhs0OAAACSklEQVRYCZ3BsQ0AMBCEMNh/aFJd/VJsKy4qUzEqU3FRmYpRmYpRmYpRmYpRmYpRmYpRmYqx4qIyFaMyFReVqRiVqRiVqRiVqRiVqRiVqRiVqRgrLipTMSpTcVGZilGZilGZilGZilGZilGZilGZirHiojIVozIVF5WpGJWpGJWpGJWpGJWpGJWpGJWpGCsuKlMxKlNxUZmKUZmKUZmKUZmKUZmKUZmKUZmKseKiMhWjMhUXlakYlakYlakYlakYlakYlakYlakYKy4qUzEqU3FRmYpRmYpRmYpRmYpRmYpRmYpRmYqx4qIyFaMyFReVqRiVqRiVqRiVqRiVqRiVqRiVqRgrLipTMSpTcVGZilGZilGZilGZilGZilGZilGZirHiojIVozIVF5WpGJWpGJWpGJWpGJWpGJWpGJWpGCtGZSouKlMxKlMxKlMxKlPxS2UqRmUqRmUqxopRmYqLylSMylSMylSMylT8UpmKUZmKUZmKsWJUpuKiMhWjMhWjMhWjMhW/VKZiVKZiVKZirBiVqbioTMWoTMWoTMWoTMUvlakYlakYlakYK0ZlKi4qUzEqUzEqUzEqU/FLZSpGZSpGZSrGilGZiovKVIzKVIzKVIzKVPxSmYpRmYpRmYqxYlSm4qIyFaMyFaMyFaMyFb9UpmJUpmJUpmKsGJWpuKhMxahMxahMxahMxS+VqRiVqRiVqRgrRmUqLipTMSpTMSpTMSpT8UtlKkZlKkZlKsaKUZmKi8pUjMpUjMpUjMpU/FKZilGZilGZinlJHDn3zA9VYQAAAABJRU5ErkJggg==)"
      ]
    },
    {
      "cell_type": "markdown",
      "metadata": {
        "id": "WVi4rSG28TIb"
      },
      "source": [
        "## Aclaracion: \n",
        "Existe la libreria pyzbar, pero no se puede usar debido a que los barcodeusados no se encuantran en las que esta decodifica, los barcode que se escogieron no estan dentro de las que se codifica en esta libreria"
      ]
    },
    {
      "cell_type": "code",
      "metadata": {
        "id": "9lV5C2FE00i4",
        "outputId": "d9f2e0f5-407b-4b03-996f-744afc334216"
      },
      "source": [
        " \n",
        "'''\n",
        "from pyzbar.pyzbar import decode\n",
        "from PIL import Image\n",
        "decode(Image.open('assets/barcode_generated.png'))\n",
        "'''"
      ],
      "execution_count": null,
      "outputs": [
        {
          "output_type": "execute_result",
          "data": {
            "text/plain": [
              "[]"
            ]
          },
          "metadata": {
            "tags": []
          },
          "execution_count": 28
        }
      ]
    },
    {
      "cell_type": "markdown",
      "metadata": {
        "id": "kxsV65pp8lIS"
      },
      "source": [
        "## Decodificacion Completa: "
      ]
    },
    {
      "cell_type": "markdown",
      "metadata": {
        "id": "J2yaagPR8pzi"
      },
      "source": [
        "En este caso vamos a decodificar lo que es el One-Track decodificacion, esto tiene dos partes, una primera encontrando los tiles para darles un numero correspondiente, para luego invertirlos y con ello mediante una ecuacion poder determinar el valor numerico total, siendo esta la decodificacion completa del ejercicio"
      ]
    },
    {
      "cell_type": "markdown",
      "metadata": {
        "id": "WFAmq5lnSRIB"
      },
      "source": [
        "En este caso la codificacion se puede hacer haciendo sucesiones para los casos del tile que se este leyendo (luego de que estos se representen como una lista de numeros como el de la codificacion) y sumarlas para obtener la representacion decimal del pharmacode"
      ]
    },
    {
      "cell_type": "markdown",
      "metadata": {
        "id": "R9nrKytOTQRX"
      },
      "source": [
        "En el caso del One Track: \n",
        "\n",
        "Tenemos las siguientes sucesiones: \n",
        "- $1,2,4,8,16 ...$ , no es dificil ver que representa (i comenzando en 0):\n",
        "\\begin{equation*}\n",
        "{2}^{i}\n",
        "\\end{equation*}\n",
        "- $2,4,8,16,32 ...$, no es dificil ver que representa(i comenzando en 0): \\begin{equation*}\n",
        "{2}^{i+1}\n",
        "\\end{equation*}\n",
        "- Lo anterior se suma en cada posicion de la lista luego de hacerle reverse (dependiendo de la representacion)"
      ]
    },
    {
      "cell_type": "code",
      "metadata": {
        "id": "lkYHQOIG00i4",
        "outputId": "67569ad3-098e-4079-c844-c1b8a5169d3a"
      },
      "source": [
        "# decode para One tack: \n",
        "\n",
        "def oneTrackToNumber(oneTrackPharmacode): \n",
        "    lista_one_track = [] \n",
        "    height, width = oneTrackPharmacode.shape[:2]\n",
        "    #print(width)\n",
        "    i=4\n",
        "    while(i<=(width-4)): \n",
        "        # en estos casos el fat opupa 6 de ancho\n",
        "        if(np.array_equal(_fat,oneTrackPharmacode[0:height, i:(i+6)])):\n",
        "            lista_one_track.append(0)\n",
        "            i+=6 \n",
        "            #print(i)\n",
        "        #el blanco ocupa 4 espacios\n",
        "        elif(np.array_equal(_spaceOne,oneTrackPharmacode[0:height, i:(i+4)])):\n",
        "            i+=4 \n",
        "            #print(i)\n",
        "        #el thin ocupa 2 espacios\n",
        "        else:\n",
        "            lista_one_track.append(1)\n",
        "            i+=2\n",
        "            #print(i)\n",
        "    return(lista_one_track)\n",
        "\n",
        "def decodeOneTrack(numericOneTrack):\n",
        "    numericOneTrack = numericOneTrack[::-1]\n",
        "    sum=0\n",
        "    for i in range(len(numericOneTrack)): \n",
        "        if(numericOneTrack[i]==0): \n",
        "            #para el caso fat\n",
        "            sum+=(2**(i+1))\n",
        "        else:\n",
        "            #para el caso thin\n",
        "            sum+=(2**(i))\n",
        "    return sum\n",
        "numericOneTrack = oneTrackToNumber(barcodeOneTrack)\n",
        "one_track_decode=decodeOneTrack(numericOneTrack)\n",
        "print(numericOneTrack)\n",
        "print(one_track_decode)\n",
        "\n"
      ],
      "execution_count": null,
      "outputs": [
        {
          "output_type": "stream",
          "text": [
            "[0, 0, 0, 1, 1, 1, 0, 1, 1, 0, 1, 1, 1, 1, 1, 0]\n",
            "123456\n"
          ],
          "name": "stdout"
        }
      ]
    },
    {
      "cell_type": "markdown",
      "metadata": {
        "id": "0D9uJr9Q9Vtq"
      },
      "source": [
        "En este caso vamos a decodificar lo que es el Two-Track decodificacion, esto tiene dos partes, una primera encontrando los tiles para darles un numero correspondiente, para luego invertirlos y con ello mediante una ecuacion poder determinar el valor numerico total, siendo esta la decodificacion completa del ejercicio"
      ]
    },
    {
      "cell_type": "markdown",
      "metadata": {
        "id": "DrsAfBAwVnro"
      },
      "source": [
        "En el caso del Two Track: \n",
        "\n",
        "Tenemos las siguientes sucesiones: \n",
        "- $3,9,27,81 ...$ , no es dificil ver que representa (i comenzando en 0) \n",
        "\\begin{equation*}\n",
        "{3}^{i+1}\n",
        "\\end{equation*}\n",
        "- $1,3,9,27,81 ...$, no es dificil ver que representa(i comenzando en 0): \\begin{equation*}\n",
        "{3}^{i}\n",
        "\\end{equation*}\n",
        "- $2,6,18,54 ...$, Para deducirlo (teniendo en cuanta que i comienza en 0):\n",
        "- Vemos que la secuencia es geometrica con $r=3$\n",
        "- Representada como:\n",
        " \\begin{equation*}\n",
        "{a}_{n}=a\\cdot{r}^{i+1}\n",
        "\\end{equation*}\n",
        "- Finalmente tenemos ya r y $a$ lo podemos reemplazar como:\n",
        " \\begin{equation*}\n",
        "{a}_{n}=2\\cdot{3}^{i}\n",
        "\\end{equation*}\n",
        "\n",
        "- Lo anterior se suma en cada posicion de la lista luego de hacerle reverse (dependiendo de la representacion)"
      ]
    },
    {
      "cell_type": "code",
      "metadata": {
        "id": "VWuxDNxd00i4",
        "outputId": "7683caf3-d290-4e42-9d21-38b70070c880"
      },
      "source": [
        "\n",
        "'''\n",
        "height,width=barcode.shape[:2] \n",
        "print (height,width)\n",
        "start_row, start_col = int(0), int(0) \n",
        "end_row, end_col = int(height * .5), width\n",
        "\n",
        "\n",
        "cada uno de los tiles es de 4 de ancho y 20 de alto, en este caso este seria un recortado de la imagen realizada \n",
        "en este caso este va a ser igual al tile _space\n",
        "cropped_top = barcode[0:20 , 0:4] \n",
        "\n",
        "#lo podemos escribir en example para verificar\n",
        "cv2.imwrite('assets/example.png', cropped_top)\n",
        "print(np.array_equal(cropped_top,_long))\n",
        "'''\n",
        "def toNumberList(pharmacode):\n",
        "    lista_barcode=[]\n",
        "    height, width = pharmacode.shape[:2]\n",
        "\n",
        "    amount_column=int(width/4)\n",
        "   \n",
        "    width_actual=0\n",
        "    for i in range(amount_column): \n",
        "        if(i%2==0):\n",
        "            width_actual = width_actual+4\n",
        "        else: \n",
        "            recorte = pharmacode[0:height,width_actual:(width_actual+4)]\n",
        "            if np.array_equal(recorte,_short_up):\n",
        "                lista_barcode.append(2)\n",
        "                #print(2)\n",
        "                #print(width_actual,width_actual+4)\n",
        "            elif  np.array_equal(recorte,_short_down): \n",
        "                lista_barcode.append(1)\n",
        "                #print(2)\n",
        "                #print(width_actual,width_actual+4)\n",
        "            else: \n",
        "                lista_barcode.append(0)\n",
        "                #print(2)\n",
        "                #print(width_actual,width_actual+4)\n",
        "            width_actual = width_actual+4\n",
        "    return(lista_barcode)\n",
        "\n",
        "def decode(numeric_list):\n",
        "    numeric_list = numeric_list[::-1]\n",
        "    sum=0\n",
        "    for i in range(len(numeric_list)): \n",
        "        if(numeric_list[i]==0): \n",
        "            #case for long\n",
        "            sum+=(3**(i+1))\n",
        "        elif(numeric_list[i]==1): \n",
        "            #case for short up\n",
        "            sum+=(3**(i))\n",
        "        else: \n",
        "            #case for short down\n",
        "            sum+=(2*(3**(i)))\n",
        "    return sum\n",
        "\n",
        "numeric_list = toNumberList(barcode)\n",
        "num_decode=decode(numeric_list)\n",
        "print(num_decode)\n"
      ],
      "execution_count": null,
      "outputs": [
        {
          "output_type": "stream",
          "text": [
            "532\n"
          ],
          "name": "stdout"
        }
      ]
    },
    {
      "cell_type": "markdown",
      "metadata": {
        "id": "98puAKER9ko6"
      },
      "source": [
        "## Correspondencia en producto de la base de datos de productos farmaceuticos"
      ]
    },
    {
      "cell_type": "markdown",
      "metadata": {
        "id": "IQEaMSZw9oEy"
      },
      "source": [
        "Par ello vamos a crear una base de datos de mongo desde python con la libreria pymongo, en la cual vamos a poner algunos productos que tienen un ID, Comparando si algun producto coincide con el decodificado de tanto One-Track como Two-Track, dicha decodificacion se supone que son ids de un producto"
      ]
    },
    {
      "cell_type": "markdown",
      "metadata": {
        "id": "0OZaRaUq-YAi"
      },
      "source": [
        "Primero que todo para la correcta realizacion de esta parte, se necesita que se tenga mongodb instalado, y tener el daemon mongod en funcionamiento"
      ]
    },
    {
      "cell_type": "code",
      "metadata": {
        "id": "gTvht8yB00i5",
        "outputId": "7b438f5b-ca37-4b9e-fc4f-941394e5dedc"
      },
      "source": [
        "# Es necesario tener abierto el Daemon de Mongo\n",
        "\n",
        "import pymongo\n",
        "from pymongo  import MongoClient \n",
        "\n",
        "#127.0.0.1 = localhost\n",
        "mongoClient =  MongoClient('127.0.0.1', port = 27017) \n",
        "\n",
        "print(mongoClient.list_database_names())"
      ],
      "execution_count": null,
      "outputs": [
        {
          "output_type": "stream",
          "text": [
            "['admin', 'concesionario', 'config', 'local', 'shop', 'test', 'tiendaVirtual']\n"
          ],
          "name": "stdout"
        }
      ]
    },
    {
      "cell_type": "markdown",
      "metadata": {
        "id": "LCfzou1s-0yZ"
      },
      "source": [
        "Asegurarse de no tener una base de datos con el mismo nombre para no tener conflictos con los datos a ingresar"
      ]
    },
    {
      "cell_type": "code",
      "metadata": {
        "id": "P8yQPfpA00i5",
        "outputId": "0ff0b2a9-ee70-4539-af09-27b8e7a9c969"
      },
      "source": [
        "#Creacion de la base de datos \n",
        "\n",
        "miDb = mongoClient.decoder \n",
        "#Creacion de la coleccion\n",
        "miCol = miDb.pharmacode_two \n",
        "\n",
        "#Lista de productos\n",
        "productos = [\n",
        "  { \"_id\": 112131,  \"nombre\": \"Aspirina\",\"tipo\":\"Pastilla\", \"precio\" : 15000},\n",
        "  { \"_id\": 532,  \"nombre\": \"Micotopic\",\"tipo\":\"Crema topica\", \"precio\" : 5000},\n",
        "  { \"_id\": 6212,  \"nombre\": \"Bactoderm\",\"tipo\":\"Crema topica\", \"precio\" : 35000},\n",
        "  { \"_id\": 29891,  \"nombre\": \"oscillococcinum\",\"tipo\":\"homeopatico\", \"precio\" : 35000},\n",
        "  { \"_id\": 783816,  \"nombre\": \"Afrin\",\"tipo\":\"solucion\", \"precio\" : 35000}\n",
        "]\n",
        "\n",
        "\n",
        "x = miCol.insert_many(productos)\n",
        "print(x.inserted_ids)"
      ],
      "execution_count": null,
      "outputs": [
        {
          "output_type": "stream",
          "text": [
            "[112131, 532, 6212, 29891, 783816]\n"
          ],
          "name": "stdout"
        }
      ]
    },
    {
      "cell_type": "markdown",
      "metadata": {
        "id": "9ZPNB5J6_Cr4"
      },
      "source": [
        "Se va a buscar (Find) si existe algun id en la base de datos que coincida con el numero resultante de la decodificacion tanto para One-Track como para Two-track"
      ]
    },
    {
      "cell_type": "code",
      "metadata": {
        "id": "qGKk54t800i5",
        "outputId": "396f0b4c-4fb2-4935-9a4c-5045df5a4ba1"
      },
      "source": [
        "#Verificacion del One-Track Pharmacode\n",
        "\n",
        "miDoc = miCol.find_one({\"_id\":one_track_decode})\n",
        "#print(type(miDoc))\n",
        "\n",
        "if (miDoc==None): \n",
        "    print(\"Articulo no registrado\")\n",
        "else: \n",
        "    print(miDoc)\n",
        "\n",
        "#Verificacion del Two-track Pharmacode\n",
        "\n",
        "miDoc = miCol.find_one({\"_id\":num_decode})\n",
        "#print(type(miDoc))\n",
        "\n",
        "if (miDoc==None): \n",
        "    print(\"Articulo no registrado\")\n",
        "else: \n",
        "    print(miDoc)\n",
        "\n",
        "\n"
      ],
      "execution_count": null,
      "outputs": [
        {
          "output_type": "stream",
          "text": [
            "{'_id': 532, 'nombre': 'Micotopic', 'tipo': 'Crema topica', 'precio': 5000}\n",
            "Articulo no registrado\n"
          ],
          "name": "stdout"
        }
      ]
    },
    {
      "cell_type": "markdown",
      "metadata": {
        "id": "MDPgWkML_hpN"
      },
      "source": [
        "Luego de realizar el proceso se va a realizar una eliminacion de la coleccion creada"
      ]
    },
    {
      "cell_type": "code",
      "metadata": {
        "id": "9ENPYPT900i5"
      },
      "source": [
        "miCol.drop()"
      ],
      "execution_count": null,
      "outputs": []
    },
    {
      "cell_type": "markdown",
      "metadata": {
        "id": "K29i3yNfa9Wy"
      },
      "source": [
        "## Conclusion"
      ]
    },
    {
      "cell_type": "markdown",
      "metadata": {
        "id": "xtjt-dPLbB6i"
      },
      "source": [
        "Este procedimiento tiene una gran facilidad para pasar las imagenes creadas para implementar en productos farmaceuticos , tanto para la creacion desde una base de datos como para revisar si existen en la base de datos (esto ultimo se realizo con las imagenes creadas tanto de One Track, como del Two Track). \n",
        "El procedimiento de decodificacion tambien resulta util ya que las medidas de estos bercode estan estandarizados con repecto a sus medidas, asi que identificando los tiles con un video se puede realizar un procedimiento similar al aplicado (que fue con imagenes). Finalmente todo lo realizado es un ejemplo de conceptos de teoria de numeros tanto en la parte modular como en la parte de codificacion y decodificacion"
      ]
    },
    {
      "cell_type": "markdown",
      "metadata": {
        "id": "U0I7OCM7_56B"
      },
      "source": [
        "##Referencias \n",
        "\n",
        "- http://www.gomaro.ch/ftproot/Laetus_PHARMA-CODE.pdf \n",
        "- https://barcode.tec-it.com/en/ \n",
        "- https://pypi.org/project/opencv-python/ \n",
        "- https://pymongo.readthedocs.io/en/stable/\n",
        "- https://drive.google.com/file/d/1EQ0FxsZNcBO0651ULj9qAWPX41DuXnFt/view - Number Theory, The Open University \n",
        "- https://drive.google.com/file/d/1vZugWaH5IjT_NVLB97oii9aVFbvtWSet/view - Elementary Number theory with programming"
      ]
    }
  ]
}